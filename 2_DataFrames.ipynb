{
 "cells": [
  {
   "cell_type": "markdown",
   "id": "0bc782d0-c3c0-48f5-b5a4-62083da6690a",
   "metadata": {},
   "source": [
    "**At First Import SparkSession**"
   ]
  },
  {
   "cell_type": "code",
   "execution_count": 1,
   "id": "224edf56-7652-496c-bb2a-872ff6acf70c",
   "metadata": {},
   "outputs": [],
   "source": [
    "from pyspark.sql import SparkSession"
   ]
  },
  {
   "cell_type": "markdown",
   "id": "b65723d8-dd31-433b-a043-0b6d011e3b1b",
   "metadata": {},
   "source": [
    "**Create a Spark Session**"
   ]
  },
  {
   "cell_type": "code",
   "execution_count": 2,
   "id": "91454d70-7fee-4fb5-8235-7bb295efeeb2",
   "metadata": {},
   "outputs": [
    {
     "name": "stderr",
     "output_type": "stream",
     "text": [
      "24/12/16 17:49:46 WARN Utils: Your hostname, Mds-MacBook-Air.local resolves to a loopback address: 127.0.0.1; using 192.168.1.5 instead (on interface en0)\n",
      "24/12/16 17:49:46 WARN Utils: Set SPARK_LOCAL_IP if you need to bind to another address\n",
      "Setting default log level to \"WARN\".\n",
      "To adjust logging level use sc.setLogLevel(newLevel). For SparkR, use setLogLevel(newLevel).\n",
      "24/12/16 17:49:47 WARN NativeCodeLoader: Unable to load native-hadoop library for your platform... using builtin-java classes where applicable\n"
     ]
    }
   ],
   "source": [
    "spark = SparkSession.builder.appName('Dataframe').getOrCreate()"
   ]
  },
  {
   "cell_type": "markdown",
   "id": "ffd28e4b-c285-47d4-9c3c-b64b69624f61",
   "metadata": {},
   "source": [
    "don't worry, this error will not harm you😂"
   ]
  },
  {
   "cell_type": "code",
   "execution_count": 3,
   "id": "383dbdfe-a6f4-446d-9c11-3ce5b4c029aa",
   "metadata": {},
   "outputs": [
    {
     "data": {
      "text/html": [
       "\n",
       "            <div>\n",
       "                <p><b>SparkSession - in-memory</b></p>\n",
       "                \n",
       "        <div>\n",
       "            <p><b>SparkContext</b></p>\n",
       "\n",
       "            <p><a href=\"http://192.168.1.5:4040\">Spark UI</a></p>\n",
       "\n",
       "            <dl>\n",
       "              <dt>Version</dt>\n",
       "                <dd><code>v3.5.3</code></dd>\n",
       "              <dt>Master</dt>\n",
       "                <dd><code>local[*]</code></dd>\n",
       "              <dt>AppName</dt>\n",
       "                <dd><code>Dataframe</code></dd>\n",
       "            </dl>\n",
       "        </div>\n",
       "        \n",
       "            </div>\n",
       "        "
      ],
      "text/plain": [
       "<pyspark.sql.session.SparkSession at 0x10f2fbcd0>"
      ]
     },
     "execution_count": 3,
     "metadata": {},
     "output_type": "execute_result"
    }
   ],
   "source": [
    "spark"
   ]
  },
  {
   "cell_type": "markdown",
   "id": "b3d12a49-6e06-4b10-9c9e-655d9749fe6d",
   "metadata": {},
   "source": [
    "**1. Reading The Dataset**"
   ]
  },
  {
   "cell_type": "code",
   "execution_count": 4,
   "id": "b3077db3-7140-41e5-a3ee-c21bee8febc7",
   "metadata": {},
   "outputs": [
    {
     "name": "stdout",
     "output_type": "stream",
     "text": [
      "+-----+---+----------+\n",
      "| Name|Age|Experience|\n",
      "+-----+---+----------+\n",
      "|Tarif| 22|         2|\n",
      "|Krish| 50|        12|\n",
      "|  Sam| 37|         8|\n",
      "+-----+---+----------+\n",
      "\n"
     ]
    }
   ],
   "source": [
    "spark.read.option('header','true').csv('test1.csv').show()"
   ]
  },
  {
   "cell_type": "code",
   "execution_count": 5,
   "id": "442ebcdd-f6e9-43f1-83fa-ae912d2a1799",
   "metadata": {},
   "outputs": [],
   "source": [
    "df_pyspark = spark.read.option('header','true').csv('test1.csv')"
   ]
  },
  {
   "cell_type": "markdown",
   "id": "10927a44-cc6b-469d-8c20-991e2179d1f7",
   "metadata": {},
   "source": [
    "**2. Checking the Datatypes of the Column (Schema)**"
   ]
  },
  {
   "cell_type": "code",
   "execution_count": 6,
   "id": "eb2480cf-5861-4fe5-8d0d-abda84966d24",
   "metadata": {},
   "outputs": [
    {
     "name": "stdout",
     "output_type": "stream",
     "text": [
      "root\n",
      " |-- Name: string (nullable = true)\n",
      " |-- Age: string (nullable = true)\n",
      " |-- Experience: string (nullable = true)\n",
      "\n"
     ]
    }
   ],
   "source": [
    "df_pyspark.printSchema()"
   ]
  },
  {
   "cell_type": "markdown",
   "id": "4db76c30-5d65-4bd9-9448-94b2c3c36105",
   "metadata": {},
   "source": [
    "But,\n",
    "Name should be String || Age should be Int || Experience should be Int"
   ]
  },
  {
   "cell_type": "code",
   "execution_count": 7,
   "id": "3e74baf5-60ec-4488-9550-713fe5a30bc3",
   "metadata": {},
   "outputs": [],
   "source": [
    "df_pyspark = spark.read.option('header','true').csv('test1.csv',inferSchema=True)"
   ]
  },
  {
   "cell_type": "code",
   "execution_count": 8,
   "id": "ab413e6c-70db-483b-98ea-bbbabffc189b",
   "metadata": {},
   "outputs": [
    {
     "name": "stdout",
     "output_type": "stream",
     "text": [
      "root\n",
      " |-- Name: string (nullable = true)\n",
      " |-- Age: integer (nullable = true)\n",
      " |-- Experience: integer (nullable = true)\n",
      "\n"
     ]
    }
   ],
   "source": [
    "df_pyspark.printSchema()"
   ]
  },
  {
   "cell_type": "markdown",
   "id": "8b12a4fa-b461-4239-b288-0567603e15ec",
   "metadata": {},
   "source": [
    "**3. Selecting Columns And Indexing**"
   ]
  },
  {
   "cell_type": "markdown",
   "id": "06acdc6c-996c-4f19-a35f-9d88c561c2a9",
   "metadata": {},
   "source": [
    "How to see all columns"
   ]
  },
  {
   "cell_type": "code",
   "execution_count": 9,
   "id": "9e913c34-e2fa-4623-a0cd-90016751b54f",
   "metadata": {},
   "outputs": [
    {
     "data": {
      "text/plain": [
       "['Name', 'Age', 'Experience']"
      ]
     },
     "execution_count": 9,
     "metadata": {},
     "output_type": "execute_result"
    }
   ],
   "source": [
    "df_pyspark.columns"
   ]
  },
  {
   "cell_type": "code",
   "execution_count": 10,
   "id": "0012874b-1209-4835-b441-5466e4338de2",
   "metadata": {},
   "outputs": [
    {
     "data": {
      "text/plain": [
       "[Row(Name='Tarif', Age=22, Experience=2),\n",
       " Row(Name='Krish', Age=50, Experience=12)]"
      ]
     },
     "execution_count": 10,
     "metadata": {},
     "output_type": "execute_result"
    }
   ],
   "source": [
    "df_pyspark.head(2)"
   ]
  },
  {
   "cell_type": "markdown",
   "id": "01dbffe3-1d4f-47c9-a74a-08897584160f",
   "metadata": {},
   "source": [
    "How do I select a Full column"
   ]
  },
  {
   "cell_type": "code",
   "execution_count": 12,
   "id": "a9409d07-3c0d-42bf-a6ac-40275d46ad81",
   "metadata": {},
   "outputs": [
    {
     "name": "stdout",
     "output_type": "stream",
     "text": [
      "+-----+\n",
      "| Name|\n",
      "+-----+\n",
      "|Tarif|\n",
      "|Krish|\n",
      "|  Sam|\n",
      "+-----+\n",
      "\n"
     ]
    }
   ],
   "source": [
    "df_pyspark.select('Name').show()"
   ]
  },
  {
   "cell_type": "markdown",
   "id": "2e6aef8e-b62d-4060-8b74-4cc58c236c55",
   "metadata": {},
   "source": [
    "How do I select more than one Full column"
   ]
  },
  {
   "cell_type": "code",
   "execution_count": 13,
   "id": "b2b5d041-2fc8-4d06-a9e3-fa4259f3645f",
   "metadata": {},
   "outputs": [
    {
     "name": "stdout",
     "output_type": "stream",
     "text": [
      "+-----+---+\n",
      "| Name|Age|\n",
      "+-----+---+\n",
      "|Tarif| 22|\n",
      "|Krish| 50|\n",
      "|  Sam| 37|\n",
      "+-----+---+\n",
      "\n"
     ]
    }
   ],
   "source": [
    "df_pyspark.select(['Name','Age']).show()"
   ]
  },
  {
   "cell_type": "code",
   "execution_count": 14,
   "id": "c8d5ba45-65f4-4a53-ab8d-e84f8dffe8a2",
   "metadata": {},
   "outputs": [
    {
     "data": {
      "text/plain": [
       "Column<'Name'>"
      ]
     },
     "execution_count": 14,
     "metadata": {},
     "output_type": "execute_result"
    }
   ],
   "source": [
    "df_pyspark['Name']"
   ]
  },
  {
   "cell_type": "code",
   "execution_count": 15,
   "id": "fefd8e2b-b024-4053-8996-f82358636894",
   "metadata": {},
   "outputs": [
    {
     "data": {
      "text/plain": [
       "[('Name', 'string'), ('Age', 'int'), ('Experience', 'int')]"
      ]
     },
     "execution_count": 15,
     "metadata": {},
     "output_type": "execute_result"
    }
   ],
   "source": [
    "df_pyspark.dtypes"
   ]
  },
  {
   "cell_type": "markdown",
   "id": "4faa8438-d08a-43c3-b04e-2ec35d187269",
   "metadata": {},
   "source": [
    "**4. Check Describe option similar to Pandas**"
   ]
  },
  {
   "cell_type": "code",
   "execution_count": 16,
   "id": "23cc947f-e8cc-4c0b-84bd-1038601217cb",
   "metadata": {},
   "outputs": [
    {
     "data": {
      "text/plain": [
       "DataFrame[summary: string, Name: string, Age: string, Experience: string]"
      ]
     },
     "execution_count": 16,
     "metadata": {},
     "output_type": "execute_result"
    }
   ],
   "source": [
    "df_pyspark.describe()"
   ]
  },
  {
   "cell_type": "code",
   "execution_count": 17,
   "id": "c6efdf8e-f33f-4103-89b0-70b202b99fb6",
   "metadata": {},
   "outputs": [
    {
     "name": "stdout",
     "output_type": "stream",
     "text": [
      "+-------+-----+------------------+-----------------+\n",
      "|summary| Name|               Age|       Experience|\n",
      "+-------+-----+------------------+-----------------+\n",
      "|  count|    3|                 3|                3|\n",
      "|   mean| NULL|36.333333333333336|7.333333333333333|\n",
      "| stddev| NULL|14.011899704655802|5.033222956847166|\n",
      "|    min|Krish|                22|                2|\n",
      "|    max|Tarif|                50|               12|\n",
      "+-------+-----+------------------+-----------------+\n",
      "\n"
     ]
    }
   ],
   "source": [
    "df_pyspark.describe().show()"
   ]
  },
  {
   "cell_type": "markdown",
   "id": "802a4e22-1906-49f0-a2d2-504ff07dc76b",
   "metadata": {},
   "source": [
    "**5. Adding Columns**"
   ]
  },
  {
   "cell_type": "code",
   "execution_count": 19,
   "id": "9668bec6-55a7-4b65-bef1-351a5bd8ed82",
   "metadata": {},
   "outputs": [],
   "source": [
    "df_pyspark = df_pyspark.withColumn('Experience after 2 Years',df_pyspark['Experience']+2)"
   ]
  },
  {
   "cell_type": "code",
   "execution_count": 21,
   "id": "edc6db5a-ca54-4924-b184-e5c1b2b8a718",
   "metadata": {},
   "outputs": [
    {
     "name": "stdout",
     "output_type": "stream",
     "text": [
      "+-----+---+----------+------------------------+\n",
      "| Name|Age|Experience|Experience after 2 Years|\n",
      "+-----+---+----------+------------------------+\n",
      "|Tarif| 22|         2|                       4|\n",
      "|Krish| 50|        12|                      14|\n",
      "|  Sam| 37|         8|                      10|\n",
      "+-----+---+----------+------------------------+\n",
      "\n"
     ]
    }
   ],
   "source": [
    "df_pyspark.show()"
   ]
  },
  {
   "cell_type": "markdown",
   "id": "6a8dc330-5ba1-4971-baed-bb9b20c5c0b5",
   "metadata": {},
   "source": [
    "**6. Dropping columns**"
   ]
  },
  {
   "cell_type": "code",
   "execution_count": 24,
   "id": "cd7e2ad4-4559-4b87-9d2a-3ae7620b1b9b",
   "metadata": {},
   "outputs": [],
   "source": [
    "df_pyspark = df_pyspark.drop('Experience after 2 Years')"
   ]
  },
  {
   "cell_type": "code",
   "execution_count": 25,
   "id": "97ff0bab-0326-4764-a5e4-a0eb26e64d41",
   "metadata": {},
   "outputs": [
    {
     "name": "stdout",
     "output_type": "stream",
     "text": [
      "+-----+---+----------+\n",
      "| Name|Age|Experience|\n",
      "+-----+---+----------+\n",
      "|Tarif| 22|         2|\n",
      "|Krish| 50|        12|\n",
      "|  Sam| 37|         8|\n",
      "+-----+---+----------+\n",
      "\n"
     ]
    }
   ],
   "source": [
    "df_pyspark.show()"
   ]
  },
  {
   "cell_type": "markdown",
   "id": "812e9823-9cbc-428d-92ac-14e2693a1c60",
   "metadata": {},
   "source": [
    "**7. Rename the column**"
   ]
  },
  {
   "cell_type": "code",
   "execution_count": 26,
   "id": "864d2e32-d3d8-4766-8eff-cc067ab6a6d5",
   "metadata": {},
   "outputs": [],
   "source": [
    "df_pyspark = df_pyspark.withColumnRenamed('Name','New Name')"
   ]
  },
  {
   "cell_type": "code",
   "execution_count": 27,
   "id": "3bffcd5c-eba8-4de3-84b2-16dbd2579fc5",
   "metadata": {},
   "outputs": [
    {
     "name": "stdout",
     "output_type": "stream",
     "text": [
      "+--------+---+----------+\n",
      "|New Name|Age|Experience|\n",
      "+--------+---+----------+\n",
      "|   Tarif| 22|         2|\n",
      "|   Krish| 50|        12|\n",
      "|     Sam| 37|         8|\n",
      "+--------+---+----------+\n",
      "\n"
     ]
    }
   ],
   "source": [
    "df_pyspark.show()"
   ]
  }
 ],
 "metadata": {
  "kernelspec": {
   "display_name": "Python 3 (ipykernel)",
   "language": "python",
   "name": "python3"
  },
  "language_info": {
   "codemirror_mode": {
    "name": "ipython",
    "version": 3
   },
   "file_extension": ".py",
   "mimetype": "text/x-python",
   "name": "python",
   "nbconvert_exporter": "python",
   "pygments_lexer": "ipython3",
   "version": "3.8.10"
  }
 },
 "nbformat": 4,
 "nbformat_minor": 5
}
