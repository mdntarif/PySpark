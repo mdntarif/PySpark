{
 "cells": [
  {
   "cell_type": "code",
   "execution_count": 1,
   "id": "fc3d073d-6db8-45e3-aa29-689f1e87ee45",
   "metadata": {},
   "outputs": [],
   "source": [
    "from pyspark.sql import SparkSession"
   ]
  },
  {
   "cell_type": "code",
   "execution_count": 2,
   "id": "756b021d-b430-4aed-9951-c83ec0bc7f21",
   "metadata": {},
   "outputs": [
    {
     "name": "stderr",
     "output_type": "stream",
     "text": [
      "24/12/18 09:38:13 WARN Utils: Your hostname, Mds-MacBook-Air.local resolves to a loopback address: 127.0.0.1; using 192.168.1.5 instead (on interface en0)\n",
      "24/12/18 09:38:13 WARN Utils: Set SPARK_LOCAL_IP if you need to bind to another address\n",
      "Setting default log level to \"WARN\".\n",
      "To adjust logging level use sc.setLogLevel(newLevel). For SparkR, use setLogLevel(newLevel).\n",
      "24/12/18 09:38:14 WARN NativeCodeLoader: Unable to load native-hadoop library for your platform... using builtin-java classes where applicable\n",
      "24/12/18 09:38:27 WARN GarbageCollectionMetrics: To enable non-built-in garbage collector(s) List(G1 Concurrent GC), users should configure it(them) to spark.eventLog.gcMetrics.youngGenerationGarbageCollectors or spark.eventLog.gcMetrics.oldGenerationGarbageCollectors\n"
     ]
    }
   ],
   "source": [
    "spark = SparkSession.builder.appName('dataframe').getOrCreate()"
   ]
  },
  {
   "cell_type": "code",
   "execution_count": 3,
   "id": "409db16a-398c-4e93-8bc9-fa737e4ad630",
   "metadata": {},
   "outputs": [],
   "source": [
    "df_pyspark = spark.read.csv('filter_file1.csv',header=True,inferSchema=True)"
   ]
  },
  {
   "cell_type": "code",
   "execution_count": 4,
   "id": "f7170e14-b431-4004-9dee-c56c0005a610",
   "metadata": {},
   "outputs": [
    {
     "name": "stdout",
     "output_type": "stream",
     "text": [
      "+------+---+----------+------+\n",
      "|  Name|Age|Experience|Salary|\n",
      "+------+---+----------+------+\n",
      "| Tarif| 22|         2| 90000|\n",
      "| Krish| 50|        12| 70000|\n",
      "|   Sam| 37|         8| 35000|\n",
      "|  Ramu| 45|         1| 22500|\n",
      "|Mukesh| 70|        22|110000|\n",
      "| Pinki| 18|         2|  5000|\n",
      "+------+---+----------+------+\n",
      "\n"
     ]
    }
   ],
   "source": [
    "df_pyspark.show()"
   ]
  },
  {
   "cell_type": "markdown",
   "id": "2ce9419e-6f8f-4695-a921-5a678f8c7293",
   "metadata": {},
   "source": [
    "### 1- Filter Operation"
   ]
  },
  {
   "cell_type": "markdown",
   "id": "602ddaa8-70c3-4c8d-9e47-3ee8edb2bc79",
   "metadata": {},
   "source": [
    "Salary of people less than or equal to 50000"
   ]
  },
  {
   "cell_type": "code",
   "execution_count": 6,
   "id": "f0576f0a-aed7-4cc3-bdd3-317d13bd561e",
   "metadata": {},
   "outputs": [
    {
     "name": "stdout",
     "output_type": "stream",
     "text": [
      "+-----+---+----------+------+\n",
      "| Name|Age|Experience|Salary|\n",
      "+-----+---+----------+------+\n",
      "|  Sam| 37|         8| 35000|\n",
      "| Ramu| 45|         1| 22500|\n",
      "|Pinki| 18|         2|  5000|\n",
      "+-----+---+----------+------+\n",
      "\n"
     ]
    }
   ],
   "source": [
    "df_pyspark.filter(\"Salary<=50000\").show()"
   ]
  },
  {
   "cell_type": "markdown",
   "id": "3f0c8339-bfb9-4edb-be20-2783c877d0e2",
   "metadata": {},
   "source": [
    "we can slso pick up only 2 columns"
   ]
  },
  {
   "cell_type": "code",
   "execution_count": 8,
   "id": "9085b95c-0158-4c55-806a-e16a376dd523",
   "metadata": {},
   "outputs": [
    {
     "name": "stdout",
     "output_type": "stream",
     "text": [
      "+-----+---+\n",
      "| Name|Age|\n",
      "+-----+---+\n",
      "|  Sam| 37|\n",
      "| Ramu| 45|\n",
      "|Pinki| 18|\n",
      "+-----+---+\n",
      "\n"
     ]
    }
   ],
   "source": [
    "df_pyspark.filter(\"Salary<=50000\").select(['Name','Age']).show()"
   ]
  },
  {
   "cell_type": "markdown",
   "id": "834ebb1c-95c5-42b0-b61a-703466568f23",
   "metadata": {},
   "source": [
    "### 2- AND OR EQUAL ( &, |, == )"
   ]
  },
  {
   "cell_type": "markdown",
   "id": "9902db93-8628-40ef-8e30-f0f650b266b0",
   "metadata": {},
   "source": [
    "We can get the same filter by this also"
   ]
  },
  {
   "cell_type": "code",
   "execution_count": 10,
   "id": "bf7cfbcb-66c5-4338-b0b7-cff0cdaaa96c",
   "metadata": {},
   "outputs": [
    {
     "name": "stdout",
     "output_type": "stream",
     "text": [
      "+-----+---+----------+------+\n",
      "| Name|Age|Experience|Salary|\n",
      "+-----+---+----------+------+\n",
      "|  Sam| 37|         8| 35000|\n",
      "| Ramu| 45|         1| 22500|\n",
      "|Pinki| 18|         2|  5000|\n",
      "+-----+---+----------+------+\n",
      "\n"
     ]
    }
   ],
   "source": [
    "df_pyspark.filter(df_pyspark['Salary']<=50000).show()"
   ]
  },
  {
   "cell_type": "markdown",
   "id": "9ac5033a-be65-47bd-a837-03570019b79b",
   "metadata": {},
   "source": [
    "Let's use **AND**"
   ]
  },
  {
   "cell_type": "code",
   "execution_count": 13,
   "id": "1410e56d-9715-4966-9ed4-e9837f171ccb",
   "metadata": {},
   "outputs": [
    {
     "name": "stdout",
     "output_type": "stream",
     "text": [
      "+----+---+----------+------+\n",
      "|Name|Age|Experience|Salary|\n",
      "+----+---+----------+------+\n",
      "| Sam| 37|         8| 35000|\n",
      "|Ramu| 45|         1| 22500|\n",
      "+----+---+----------+------+\n",
      "\n"
     ]
    }
   ],
   "source": [
    "df_pyspark.filter((df_pyspark['Salary']<=50000) & \n",
    "                  (df_pyspark['Salary']>5000)).show()"
   ]
  },
  {
   "cell_type": "markdown",
   "id": "a2c79eda-436e-4706-a176-fb8e2ff73920",
   "metadata": {},
   "source": [
    "Let's use **OR**"
   ]
  },
  {
   "cell_type": "code",
   "execution_count": 14,
   "id": "b1fb7486-3e48-41fc-97bd-d93e0415f217",
   "metadata": {},
   "outputs": [
    {
     "name": "stdout",
     "output_type": "stream",
     "text": [
      "+------+---+----------+------+\n",
      "|  Name|Age|Experience|Salary|\n",
      "+------+---+----------+------+\n",
      "| Tarif| 22|         2| 90000|\n",
      "| Krish| 50|        12| 70000|\n",
      "|   Sam| 37|         8| 35000|\n",
      "|  Ramu| 45|         1| 22500|\n",
      "|Mukesh| 70|        22|110000|\n",
      "| Pinki| 18|         2|  5000|\n",
      "+------+---+----------+------+\n",
      "\n"
     ]
    }
   ],
   "source": [
    "df_pyspark.filter((df_pyspark['Salary']<=50000) |\n",
    "                  (df_pyspark['Salary']>5000)).show()"
   ]
  },
  {
   "cell_type": "markdown",
   "id": "aa923326-78a9-4ee0-91ae-f574f62f8f1e",
   "metadata": {},
   "source": [
    "### 3- Not ( ~ )"
   ]
  },
  {
   "cell_type": "code",
   "execution_count": 15,
   "id": "3099f7bd-7ee9-41f7-b3b2-76473b0bdaa6",
   "metadata": {},
   "outputs": [
    {
     "name": "stdout",
     "output_type": "stream",
     "text": [
      "+------+---+----------+------+\n",
      "|  Name|Age|Experience|Salary|\n",
      "+------+---+----------+------+\n",
      "| Tarif| 22|         2| 90000|\n",
      "| Krish| 50|        12| 70000|\n",
      "|Mukesh| 70|        22|110000|\n",
      "+------+---+----------+------+\n",
      "\n"
     ]
    }
   ],
   "source": [
    "df_pyspark.filter(~(df_pyspark['Salary']<=50000)).show()"
   ]
  }
 ],
 "metadata": {
  "kernelspec": {
   "display_name": "Python 3 (ipykernel)",
   "language": "python",
   "name": "python3"
  },
  "language_info": {
   "codemirror_mode": {
    "name": "ipython",
    "version": 3
   },
   "file_extension": ".py",
   "mimetype": "text/x-python",
   "name": "python",
   "nbconvert_exporter": "python",
   "pygments_lexer": "ipython3",
   "version": "3.8.10"
  }
 },
 "nbformat": 4,
 "nbformat_minor": 5
}
